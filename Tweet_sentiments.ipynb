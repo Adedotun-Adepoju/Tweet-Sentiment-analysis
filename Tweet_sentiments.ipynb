{
  "nbformat": 4,
  "nbformat_minor": 0,
  "metadata": {
    "colab": {
      "name": "Adepoju Adedotun.ipynb",
      "provenance": [],
      "collapsed_sections": [],
      "authorship_tag": "ABX9TyP+9ak5DnqYB9kAhTAxJ8iu",
      "include_colab_link": true
    },
    "kernelspec": {
      "display_name": "Python 3",
      "name": "python3"
    },
    "accelerator": "GPU"
  },
  "cells": [
    {
      "cell_type": "markdown",
      "metadata": {
        "id": "view-in-github",
        "colab_type": "text"
      },
      "source": [
        "<a href=\"https://colab.research.google.com/github/Adedotun-Adepoju/Tweet-Sentiment-analysis/blob/main/Tweet_sentiments.ipynb\" target=\"_parent\"><img src=\"https://colab.research.google.com/assets/colab-badge.svg\" alt=\"Open In Colab\"/></a>"
      ]
    },
    {
      "cell_type": "code",
      "metadata": {
        "id": "wHpApQMC8zc1"
      },
      "source": [
        "# Import relevant packages\r\n",
        "import numpy as np\r\n",
        "import pandas as pd\r\n",
        "import seaborn as sns\r\n",
        "import matplotlib.pyplot as plt"
      ],
      "execution_count": null,
      "outputs": []
    },
    {
      "cell_type": "code",
      "metadata": {
        "colab": {
          "base_uri": "https://localhost:8080/"
        },
        "id": "MAMY4Al09SLw",
        "outputId": "4f8d5339-4d99-44b4-e77f-155e9be04bd4"
      },
      "source": [
        "# Loading the dataset\r\n",
        "from google.colab import drive\r\n",
        "drive.mount('/content/gdrive')"
      ],
      "execution_count": null,
      "outputs": [
        {
          "output_type": "stream",
          "text": [
            "Mounted at /content/gdrive\n"
          ],
          "name": "stdout"
        }
      ]
    },
    {
      "cell_type": "code",
      "metadata": {
        "id": "LRSsEBkk_LrW"
      },
      "source": [
        "train_df=pd.read_csv('/content/gdrive/My Drive/iQube/New folder/Corona_NLP_train.csv', encoding='utf-8')\r\n",
        "test_df=pd.read_csv('/content/gdrive/My Drive/iQube/Corona_NLP_test.csv', encoding='utf-8')"
      ],
      "execution_count": null,
      "outputs": []
    },
    {
      "cell_type": "code",
      "metadata": {
        "colab": {
          "base_uri": "https://localhost:8080/",
          "height": 204
        },
        "id": "S20ojvvtAODO",
        "outputId": "d73e1ca6-aa9a-40b4-e7cd-7ff73edeaf3f"
      },
      "source": [
        "train_df.head()"
      ],
      "execution_count": null,
      "outputs": [
        {
          "output_type": "execute_result",
          "data": {
            "text/html": [
              "<div>\n",
              "<style scoped>\n",
              "    .dataframe tbody tr th:only-of-type {\n",
              "        vertical-align: middle;\n",
              "    }\n",
              "\n",
              "    .dataframe tbody tr th {\n",
              "        vertical-align: top;\n",
              "    }\n",
              "\n",
              "    .dataframe thead th {\n",
              "        text-align: right;\n",
              "    }\n",
              "</style>\n",
              "<table border=\"1\" class=\"dataframe\">\n",
              "  <thead>\n",
              "    <tr style=\"text-align: right;\">\n",
              "      <th></th>\n",
              "      <th>UserName</th>\n",
              "      <th>ScreenName</th>\n",
              "      <th>Location</th>\n",
              "      <th>TweetAt</th>\n",
              "      <th>OriginalTweet</th>\n",
              "      <th>Sentiment</th>\n",
              "    </tr>\n",
              "  </thead>\n",
              "  <tbody>\n",
              "    <tr>\n",
              "      <th>0</th>\n",
              "      <td>3799</td>\n",
              "      <td>48751</td>\n",
              "      <td>London</td>\n",
              "      <td>16-03-2020</td>\n",
              "      <td>@MeNyrbie @Phil_Gahan @Chrisitv https://t.co/i...</td>\n",
              "      <td>Neutral</td>\n",
              "    </tr>\n",
              "    <tr>\n",
              "      <th>1</th>\n",
              "      <td>3800</td>\n",
              "      <td>48752</td>\n",
              "      <td>UK</td>\n",
              "      <td>16-03-2020</td>\n",
              "      <td>advice Talk to your neighbours family to excha...</td>\n",
              "      <td>Positive</td>\n",
              "    </tr>\n",
              "    <tr>\n",
              "      <th>2</th>\n",
              "      <td>3801</td>\n",
              "      <td>48753</td>\n",
              "      <td>Vagabonds</td>\n",
              "      <td>16-03-2020</td>\n",
              "      <td>Coronavirus Australia: Woolworths to give elde...</td>\n",
              "      <td>Positive</td>\n",
              "    </tr>\n",
              "    <tr>\n",
              "      <th>3</th>\n",
              "      <td>3802</td>\n",
              "      <td>48754</td>\n",
              "      <td>NaN</td>\n",
              "      <td>16-03-2020</td>\n",
              "      <td>My food stock is not the only one which is emp...</td>\n",
              "      <td>Positive</td>\n",
              "    </tr>\n",
              "    <tr>\n",
              "      <th>4</th>\n",
              "      <td>3803</td>\n",
              "      <td>48755</td>\n",
              "      <td>NaN</td>\n",
              "      <td>16-03-2020</td>\n",
              "      <td>Me, ready to go at supermarket during the #COV...</td>\n",
              "      <td>Extremely Negative</td>\n",
              "    </tr>\n",
              "  </tbody>\n",
              "</table>\n",
              "</div>"
            ],
            "text/plain": [
              "   UserName  ...           Sentiment\n",
              "0      3799  ...             Neutral\n",
              "1      3800  ...            Positive\n",
              "2      3801  ...            Positive\n",
              "3      3802  ...            Positive\n",
              "4      3803  ...  Extremely Negative\n",
              "\n",
              "[5 rows x 6 columns]"
            ]
          },
          "metadata": {
            "tags": []
          },
          "execution_count": 4
        }
      ]
    },
    {
      "cell_type": "code",
      "metadata": {
        "colab": {
          "base_uri": "https://localhost:8080/"
        },
        "id": "wiw_VbJyIw5x",
        "outputId": "ee25c325-89f9-4e5e-ff55-12a1bb357985"
      },
      "source": [
        "# View the shape of the training date\r\n",
        "train_df.shape"
      ],
      "execution_count": null,
      "outputs": [
        {
          "output_type": "execute_result",
          "data": {
            "text/plain": [
              "(41157, 6)"
            ]
          },
          "metadata": {
            "tags": []
          },
          "execution_count": 5
        }
      ]
    },
    {
      "cell_type": "code",
      "metadata": {
        "colab": {
          "base_uri": "https://localhost:8080/",
          "height": 204
        },
        "id": "R_IaCZWdJfBF",
        "outputId": "76ec4059-3c37-4a77-cdbf-3d943cfc745b"
      },
      "source": [
        "test_df.head()"
      ],
      "execution_count": null,
      "outputs": [
        {
          "output_type": "execute_result",
          "data": {
            "text/html": [
              "<div>\n",
              "<style scoped>\n",
              "    .dataframe tbody tr th:only-of-type {\n",
              "        vertical-align: middle;\n",
              "    }\n",
              "\n",
              "    .dataframe tbody tr th {\n",
              "        vertical-align: top;\n",
              "    }\n",
              "\n",
              "    .dataframe thead th {\n",
              "        text-align: right;\n",
              "    }\n",
              "</style>\n",
              "<table border=\"1\" class=\"dataframe\">\n",
              "  <thead>\n",
              "    <tr style=\"text-align: right;\">\n",
              "      <th></th>\n",
              "      <th>UserName</th>\n",
              "      <th>ScreenName</th>\n",
              "      <th>Location</th>\n",
              "      <th>TweetAt</th>\n",
              "      <th>OriginalTweet</th>\n",
              "      <th>Sentiment</th>\n",
              "    </tr>\n",
              "  </thead>\n",
              "  <tbody>\n",
              "    <tr>\n",
              "      <th>0</th>\n",
              "      <td>1</td>\n",
              "      <td>44953</td>\n",
              "      <td>NYC</td>\n",
              "      <td>02-03-2020</td>\n",
              "      <td>TRENDING: New Yorkers encounter empty supermar...</td>\n",
              "      <td>Extremely Negative</td>\n",
              "    </tr>\n",
              "    <tr>\n",
              "      <th>1</th>\n",
              "      <td>2</td>\n",
              "      <td>44954</td>\n",
              "      <td>Seattle, WA</td>\n",
              "      <td>02-03-2020</td>\n",
              "      <td>When I couldn't find hand sanitizer at Fred Me...</td>\n",
              "      <td>Positive</td>\n",
              "    </tr>\n",
              "    <tr>\n",
              "      <th>2</th>\n",
              "      <td>3</td>\n",
              "      <td>44955</td>\n",
              "      <td>NaN</td>\n",
              "      <td>02-03-2020</td>\n",
              "      <td>Find out how you can protect yourself and love...</td>\n",
              "      <td>Extremely Positive</td>\n",
              "    </tr>\n",
              "    <tr>\n",
              "      <th>3</th>\n",
              "      <td>4</td>\n",
              "      <td>44956</td>\n",
              "      <td>Chicagoland</td>\n",
              "      <td>02-03-2020</td>\n",
              "      <td>#Panic buying hits #NewYork City as anxious sh...</td>\n",
              "      <td>Negative</td>\n",
              "    </tr>\n",
              "    <tr>\n",
              "      <th>4</th>\n",
              "      <td>5</td>\n",
              "      <td>44957</td>\n",
              "      <td>Melbourne, Victoria</td>\n",
              "      <td>03-03-2020</td>\n",
              "      <td>#toiletpaper #dunnypaper #coronavirus #coronav...</td>\n",
              "      <td>Neutral</td>\n",
              "    </tr>\n",
              "  </tbody>\n",
              "</table>\n",
              "</div>"
            ],
            "text/plain": [
              "   UserName  ...           Sentiment\n",
              "0         1  ...  Extremely Negative\n",
              "1         2  ...            Positive\n",
              "2         3  ...  Extremely Positive\n",
              "3         4  ...            Negative\n",
              "4         5  ...             Neutral\n",
              "\n",
              "[5 rows x 6 columns]"
            ]
          },
          "metadata": {
            "tags": []
          },
          "execution_count": 6
        }
      ]
    },
    {
      "cell_type": "code",
      "metadata": {
        "id": "ZbRjTz9Er5bP"
      },
      "source": [
        "train_df['OriginalTweet']=train_df['OriginalTweet'].str.lower()"
      ],
      "execution_count": null,
      "outputs": []
    },
    {
      "cell_type": "code",
      "metadata": {
        "colab": {
          "base_uri": "https://localhost:8080/"
        },
        "id": "I5L8y-z8J3BK",
        "outputId": "f23f85a1-8304-4222-e32c-d8562bb71983"
      },
      "source": [
        "# View the shape of the test data\r\n",
        "test_df.shape"
      ],
      "execution_count": null,
      "outputs": [
        {
          "output_type": "execute_result",
          "data": {
            "text/plain": [
              "(3798, 6)"
            ]
          },
          "metadata": {
            "tags": []
          },
          "execution_count": 8
        }
      ]
    },
    {
      "cell_type": "code",
      "metadata": {
        "colab": {
          "base_uri": "https://localhost:8080/"
        },
        "id": "WMT4QDEfMCQM",
        "outputId": "72387a27-15fa-4c3a-c323-de9d6777f451"
      },
      "source": [
        "# Show the data types\r\n",
        "train_df.dtypes"
      ],
      "execution_count": null,
      "outputs": [
        {
          "output_type": "execute_result",
          "data": {
            "text/plain": [
              "UserName          int64\n",
              "ScreenName        int64\n",
              "Location         object\n",
              "TweetAt          object\n",
              "OriginalTweet    object\n",
              "Sentiment        object\n",
              "dtype: object"
            ]
          },
          "metadata": {
            "tags": []
          },
          "execution_count": 9
        }
      ]
    },
    {
      "cell_type": "code",
      "metadata": {
        "colab": {
          "base_uri": "https://localhost:8080/"
        },
        "id": "pAcEc2OAMS_r",
        "outputId": "53ac36f1-0596-4436-a7e7-4334c665a7fd"
      },
      "source": [
        "test_df.dtypes"
      ],
      "execution_count": null,
      "outputs": [
        {
          "output_type": "execute_result",
          "data": {
            "text/plain": [
              "UserName          int64\n",
              "ScreenName        int64\n",
              "Location         object\n",
              "TweetAt          object\n",
              "OriginalTweet    object\n",
              "Sentiment        object\n",
              "dtype: object"
            ]
          },
          "metadata": {
            "tags": []
          },
          "execution_count": 10
        }
      ]
    },
    {
      "cell_type": "code",
      "metadata": {
        "colab": {
          "base_uri": "https://localhost:8080/"
        },
        "id": "gCo46N_NJ9-k",
        "outputId": "116e672c-499a-4f99-affd-ddb6602c44d6"
      },
      "source": [
        "# Check if there are missing values in the each column\r\n",
        "train_df.isnull().any()"
      ],
      "execution_count": null,
      "outputs": [
        {
          "output_type": "execute_result",
          "data": {
            "text/plain": [
              "UserName         False\n",
              "ScreenName       False\n",
              "Location          True\n",
              "TweetAt          False\n",
              "OriginalTweet    False\n",
              "Sentiment        False\n",
              "dtype: bool"
            ]
          },
          "metadata": {
            "tags": []
          },
          "execution_count": 11
        }
      ]
    },
    {
      "cell_type": "code",
      "metadata": {
        "colab": {
          "base_uri": "https://localhost:8080/"
        },
        "id": "2czooHbKKUnX",
        "outputId": "0d57f004-0410-4f7b-ac6c-98b0043f7688"
      },
      "source": [
        "# calculate the percentage of missing values in the location column\r\n",
        "missing_pct= train_df['Location'].isnull().sum()/train_df.shape[0]\r\n",
        "print('The percentage of missing values in the Location column is {} and the number of missing values is {}'.format(missing_pct*100,train_df['Location'].isnull().sum()))"
      ],
      "execution_count": null,
      "outputs": [
        {
          "output_type": "stream",
          "text": [
            "The percentage of missing values in the Location column is 20.87129771363316 and the number of missing values is 8590\n"
          ],
          "name": "stdout"
        }
      ]
    },
    {
      "cell_type": "code",
      "metadata": {
        "colab": {
          "base_uri": "https://localhost:8080/"
        },
        "id": "r8lSx7P6K62m",
        "outputId": "e2fdea4d-fefd-4c6e-b61b-f61c26d20413"
      },
      "source": [
        "# Check for duplicates in the train set\r\n",
        "train_df.duplicated().any()"
      ],
      "execution_count": null,
      "outputs": [
        {
          "output_type": "execute_result",
          "data": {
            "text/plain": [
              "False"
            ]
          },
          "metadata": {
            "tags": []
          },
          "execution_count": 13
        }
      ]
    },
    {
      "cell_type": "code",
      "metadata": {
        "colab": {
          "base_uri": "https://localhost:8080/",
          "height": 404
        },
        "id": "5yFGkZ-Vh6Ik",
        "outputId": "64c7958b-294d-4fb0-9af1-110c58ae2aa9"
      },
      "source": [
        "# Number of tweets f different sentiments\r\n",
        "train_df.Sentiment.value_counts().plot.bar(figsize=(7,4))\r\n",
        "plt.xticks()\r\n",
        "plt.title('Number of tweets of each sentiments',fontsize=12)\r\n",
        "plt.xlabel('Sentiment', fontsize=12)\r\n",
        "plt.ylabel('Number of tweets')"
      ],
      "execution_count": null,
      "outputs": [
        {
          "output_type": "execute_result",
          "data": {
            "text/plain": [
              "Text(0, 0.5, 'Number of tweets')"
            ]
          },
          "metadata": {
            "tags": []
          },
          "execution_count": 14
        },
        {
          "output_type": "display_data",
          "data": {
            "image/png": "[encoded data removed]",
            "text/plain": [
              "<Figure size 504x288 with 1 Axes>"
            ]
          },
          "metadata": {
            "tags": [],
            "needs_background": "light"
          }
        }
      ]
    },
    {
      "cell_type": "code",
      "metadata": {
        "id": "KH7cVTwDidmF"
      },
      "source": [
        "# Give numeric values the sentiments\r\n",
        "train_df['Sentiment'] = train_df['Sentiment'].map({'Extremely Positive':2, 'Positive':2, 'Neutral':1, 'Negative':0, 'Extremely Negative':0})\r\n",
        "test_df['Sentiment']= test_df['Sentiment'].map({'Extremely Positive':2, 'Positive':2, 'Neutral':1, 'Negative':0, 'Extremely Negative':0})"
      ],
      "execution_count": null,
      "outputs": []
    },
    {
      "cell_type": "code",
      "metadata": {
        "id": "Uzu-PlI5jb_0"
      },
      "source": [
        "# Only one feature will be used to train the model\r\n",
        "train_df= train_df[['OriginalTweet','Sentiment']]\r\n",
        "test_df= test_df[['OriginalTweet','Sentiment']]"
      ],
      "execution_count": null,
      "outputs": []
    },
    {
      "cell_type": "code",
      "metadata": {
        "id": "cSK-1RBNkIJ6"
      },
      "source": [
        "# Remove unnecessary characters and change to lowercase\r\n",
        "train_df.OriginalTweet = train_df.OriginalTweet.str.replace(r'\\W+',' ')\r\n",
        "train_df.OriginalTweet = train_df.OriginalTweet.str.replace(r'http\\S+','')\r\n",
        "train_df.OriginalTweet = train_df.OriginalTweet.str.lower()"
      ],
      "execution_count": null,
      "outputs": []
    },
    {
      "cell_type": "code",
      "metadata": {
        "id": "-V2Ceevll3my"
      },
      "source": [
        "test_df.OriginalTweet = test_df.OriginalTweet.str.replace(r'\\W+',' ')\r\n",
        "test_df.OriginalTweet = test_df.OriginalTweet.str.replace(r'http\\S+','')\r\n",
        "test_df.OriginalTweet = test_df.OriginalTweet.str.lower()"
      ],
      "execution_count": null,
      "outputs": []
    },
    {
      "cell_type": "code",
      "metadata": {
        "id": "pgeCxyKnPxtS"
      },
      "source": [
        "# Import Libraries useful for natural language processing\r\n",
        "import re\r\n",
        "import string\r\n",
        "from nltk.corpus import stopwords\r\n",
        "from nltk.tokenize import TweetTokenizer"
      ],
      "execution_count": null,
      "outputs": []
    },
    {
      "cell_type": "code",
      "metadata": {
        "id": "0yALExVZmEsF",
        "colab": {
          "base_uri": "https://localhost:8080/"
        },
        "outputId": "55ab56fa-3727-499c-c019-f062f8b0b80d"
      },
      "source": [
        "import nltk\r\n",
        "nltk.download('stopwords')"
      ],
      "execution_count": null,
      "outputs": [
        {
          "output_type": "stream",
          "text": [
            "[nltk_data] Downloading package stopwords to /root/nltk_data...\n",
            "[nltk_data]   Unzipping corpora/stopwords.zip.\n"
          ],
          "name": "stdout"
        },
        {
          "output_type": "execute_result",
          "data": {
            "text/plain": [
              "True"
            ]
          },
          "metadata": {
            "tags": []
          },
          "execution_count": 19
        }
      ]
    },
    {
      "cell_type": "code",
      "metadata": {
        "colab": {
          "base_uri": "https://localhost:8080/"
        },
        "id": "um9_rhowchWg",
        "outputId": "bf3cbbec-ae93-4c05-911e-25a47dd89c25"
      },
      "source": [
        " nltk.download('wordnet')"
      ],
      "execution_count": null,
      "outputs": [
        {
          "output_type": "stream",
          "text": [
            "[nltk_data] Downloading package wordnet to /root/nltk_data...\n",
            "[nltk_data]   Unzipping corpora/wordnet.zip.\n"
          ],
          "name": "stdout"
        },
        {
          "output_type": "execute_result",
          "data": {
            "text/plain": [
              "True"
            ]
          },
          "metadata": {
            "tags": []
          },
          "execution_count": 21
        }
      ]
    },
    {
      "cell_type": "code",
      "metadata": {
        "colab": {
          "base_uri": "https://localhost:8080/"
        },
        "id": "tjYEjZczhFXq",
        "outputId": "da7230fb-1bf6-4cb4-baba-679aae2fd362"
      },
      "source": [
        "nltk.download('punkt')"
      ],
      "execution_count": null,
      "outputs": [
        {
          "output_type": "stream",
          "text": [
            "[nltk_data] Downloading package punkt to /root/nltk_data...\n",
            "[nltk_data]   Unzipping tokenizers/punkt.zip.\n"
          ],
          "name": "stdout"
        },
        {
          "output_type": "execute_result",
          "data": {
            "text/plain": [
              "True"
            ]
          },
          "metadata": {
            "tags": []
          },
          "execution_count": 22
        }
      ]
    },
    {
      "cell_type": "code",
      "metadata": {
        "id": "OtvUTIZevwci"
      },
      "source": [
        "lemma = nltk.WordNetLemmatizer()"
      ],
      "execution_count": null,
      "outputs": []
    },
    {
      "cell_type": "code",
      "metadata": {
        "id": "jERe0TGGmF_o"
      },
      "source": [
        "# create a new column to store edited values\r\n",
        "train_df['processed_tweets']= [lemma.lemmatize(word) for word in train_df.OriginalTweet]\r\n",
        "\r\n",
        "test_df['processed_tweets']= [lemma.lemmatize(word) for word in test_df.OriginalTweet]"
      ],
      "execution_count": null,
      "outputs": []
    },
    {
      "cell_type": "code",
      "metadata": {
        "colab": {
          "base_uri": "https://localhost:8080/",
          "height": 204
        },
        "id": "C2zE-9jUnuvy",
        "outputId": "ac423297-f7c6-4acb-e16c-b77fdfd9dcd4"
      },
      "source": [
        "train_df.head()"
      ],
      "execution_count": null,
      "outputs": [
        {
          "output_type": "execute_result",
          "data": {
            "text/html": [
              "<div>\n",
              "<style scoped>\n",
              "    .dataframe tbody tr th:only-of-type {\n",
              "        vertical-align: middle;\n",
              "    }\n",
              "\n",
              "    .dataframe tbody tr th {\n",
              "        vertical-align: top;\n",
              "    }\n",
              "\n",
              "    .dataframe thead th {\n",
              "        text-align: right;\n",
              "    }\n",
              "</style>\n",
              "<table border=\"1\" class=\"dataframe\">\n",
              "  <thead>\n",
              "    <tr style=\"text-align: right;\">\n",
              "      <th></th>\n",
              "      <th>OriginalTweet</th>\n",
              "      <th>Sentiment</th>\n",
              "      <th>processed_tweets</th>\n",
              "    </tr>\n",
              "  </thead>\n",
              "  <tbody>\n",
              "    <tr>\n",
              "      <th>0</th>\n",
              "      <td>menyrbie phil_gahan chrisitv  t co ifz9fan2pa...</td>\n",
              "      <td>1</td>\n",
              "      <td>menyrbie phil_gahan chrisitv  t co ifz9fan2pa...</td>\n",
              "    </tr>\n",
              "    <tr>\n",
              "      <th>1</th>\n",
              "      <td>advice talk to your neighbours family to excha...</td>\n",
              "      <td>2</td>\n",
              "      <td>advice talk to your neighbours family to excha...</td>\n",
              "    </tr>\n",
              "    <tr>\n",
              "      <th>2</th>\n",
              "      <td>coronavirus australia woolworths to give elder...</td>\n",
              "      <td>2</td>\n",
              "      <td>coronavirus australia woolworths to give elder...</td>\n",
              "    </tr>\n",
              "    <tr>\n",
              "      <th>3</th>\n",
              "      <td>my food stock is not the only one which is emp...</td>\n",
              "      <td>2</td>\n",
              "      <td>my food stock is not the only one which is emp...</td>\n",
              "    </tr>\n",
              "    <tr>\n",
              "      <th>4</th>\n",
              "      <td>me ready to go at supermarket during the covid...</td>\n",
              "      <td>0</td>\n",
              "      <td>me ready to go at supermarket during the covid...</td>\n",
              "    </tr>\n",
              "  </tbody>\n",
              "</table>\n",
              "</div>"
            ],
            "text/plain": [
              "                                       OriginalTweet  ...                                   processed_tweets\n",
              "0   menyrbie phil_gahan chrisitv  t co ifz9fan2pa...  ...   menyrbie phil_gahan chrisitv  t co ifz9fan2pa...\n",
              "1  advice talk to your neighbours family to excha...  ...  advice talk to your neighbours family to excha...\n",
              "2  coronavirus australia woolworths to give elder...  ...  coronavirus australia woolworths to give elder...\n",
              "3  my food stock is not the only one which is emp...  ...  my food stock is not the only one which is emp...\n",
              "4  me ready to go at supermarket during the covid...  ...  me ready to go at supermarket during the covid...\n",
              "\n",
              "[5 rows x 3 columns]"
            ]
          },
          "metadata": {
            "tags": []
          },
          "execution_count": 25
        }
      ]
    },
    {
      "cell_type": "code",
      "metadata": {
        "id": "Gs-foH8XqYSp"
      },
      "source": [
        "# train and validation split\r\n",
        "from sklearn.model_selection import train_test_split\r\n",
        "X= train_df['processed_tweets']\r\n",
        "y=train_df['Sentiment']\r\n",
        "X_test=test_df['processed_tweets']\r\n",
        "y_test= test_df['Sentiment']\r\n",
        "from sklearn.model_selection import train_test_split\r\n",
        "x_train, x_val, y_train, y_val= train_test_split(X,y,test_size=0.8)"
      ],
      "execution_count": null,
      "outputs": []
    },
    {
      "cell_type": "code",
      "metadata": {
        "id": "LWdeLmuErJqK"
      },
      "source": [
        "# Create a tfidf vectorizer to vectorize the features\r\n",
        "from sklearn.feature_extraction.text import TfidfVectorizer\r\n",
        "tfidf_vectorizer= TfidfVectorizer(stop_words='english',use_idf=True, lowercase=False)\r\n",
        "tfidf_vectorizer.fit(x_train)\r\n",
        "\r\n",
        "x_train_vec= tfidf_vectorizer.transform(x_train)\r\n",
        "x_val_vec= tfidf_vectorizer.transform(x_val)\r\n",
        "x_test_vect= tfidf_vectorizer.transform(X_test)"
      ],
      "execution_count": null,
      "outputs": []
    },
    {
      "cell_type": "code",
      "metadata": {
        "id": "-JxaEZv6tDnu"
      },
      "source": [
        "# Create the  count vectorizer\r\n",
        "from sklearn.feature_extraction.text import CountVectorizer\r\n",
        "vectorizer = CountVectorizer(stop_words='english').fit(X)\r\n",
        "\r\n",
        "# transform both train and valid data\r\n",
        "x_train_vector = vectorizer.transform(x_train)\r\n",
        "x_test_vector= tfidf_vectorizer.transform(X_test)\r\n",
        "x_val_vector = vectorizer.transform(x_val)"
      ],
      "execution_count": null,
      "outputs": []
    },
    {
      "cell_type": "code",
      "metadata": {
        "id": "Auc0XhuVeohU"
      },
      "source": [
        "from sklearn.model_selection import GridSearchCV\r\n",
        "from sklearn.linear_model import LogisticRegression\r\n",
        "from sklearn.model_selection import cross_val_score"
      ],
      "execution_count": null,
      "outputs": []
    },
    {
      "cell_type": "code",
      "metadata": {
        "colab": {
          "base_uri": "https://localhost:8080/"
        },
        "id": "hCBrktpssbLP",
        "outputId": "4537426e-b6df-4f87-e27d-dda3c37cd82c"
      },
      "source": [
        "# cross validation score of the tfidl vectorization\r\n",
        "cross_val_score(LogisticRegression(random_state=70), x_train_vec, y_train, cv=10, verbose=1, n_jobs=-1).mean()"
      ],
      "execution_count": null,
      "outputs": [
        {
          "output_type": "stream",
          "text": [
            "[Parallel(n_jobs=-1)]: Using backend LokyBackend with 2 concurrent workers.\n",
            "[Parallel(n_jobs=-1)]: Done  10 out of  10 | elapsed:   10.3s finished\n"
          ],
          "name": "stderr"
        },
        {
          "output_type": "execute_result",
          "data": {
            "text/plain": [
              "0.6872813174627517"
            ]
          },
          "metadata": {
            "tags": []
          },
          "execution_count": 30
        }
      ]
    },
    {
      "cell_type": "code",
      "metadata": {
        "colab": {
          "base_uri": "https://localhost:8080/"
        },
        "id": "Dr4jCSb9uoKo",
        "outputId": "fdf96227-dc3f-41b7-db27-2dc3407b5c7a"
      },
      "source": [
        "# cross validation score of the count vectorization\r\n",
        "cross_val_score(LogisticRegression(random_state=70), x_train_vector, y_train, cv=10, verbose=1, n_jobs=-1).mean()"
      ],
      "execution_count": null,
      "outputs": [
        {
          "output_type": "stream",
          "text": [
            "[Parallel(n_jobs=-1)]: Using backend LokyBackend with 2 concurrent workers.\n",
            "[Parallel(n_jobs=-1)]: Done  10 out of  10 | elapsed:   25.4s finished\n"
          ],
          "name": "stderr"
        },
        {
          "output_type": "execute_result",
          "data": {
            "text/plain": [
              "0.7215429579209381"
            ]
          },
          "metadata": {
            "tags": []
          },
          "execution_count": 31
        }
      ]
    },
    {
      "cell_type": "code",
      "metadata": {
        "colab": {
          "base_uri": "https://localhost:8080/"
        },
        "id": "3P6xFtocz5kK",
        "outputId": "5e74e05c-c698-4d22-f381-532676a33d7d"
      },
      "source": [
        "# Create a logistic regression model using count vectoized features\r\n",
        "log_model= LogisticRegression(C= 1, penalty='l1',solver='saga')\r\n",
        "log_model.fit(x_train_vector, y_train)"
      ],
      "execution_count": null,
      "outputs": [
        {
          "output_type": "stream",
          "text": [
            "/usr/local/lib/python3.6/dist-packages/sklearn/linear_model/_sag.py:330: ConvergenceWarning: The max_iter was reached which means the coef_ did not converge\n",
            "  \"the coef_ did not converge\", ConvergenceWarning)\n"
          ],
          "name": "stderr"
        },
        {
          "output_type": "execute_result",
          "data": {
            "text/plain": [
              "LogisticRegression(C=1, class_weight=None, dual=False, fit_intercept=True,\n",
              "                   intercept_scaling=1, l1_ratio=None, max_iter=100,\n",
              "                   multi_class='auto', n_jobs=None, penalty='l1',\n",
              "                   random_state=None, solver='saga', tol=0.0001, verbose=0,\n",
              "                   warm_start=False)"
            ]
          },
          "metadata": {
            "tags": []
          },
          "execution_count": 32
        }
      ]
    },
    {
      "cell_type": "code",
      "metadata": {
        "id": "msrcvonA0UsB"
      },
      "source": [
        "# make predictions on the validation set\r\n",
        "y_pred= log_model.predict(x_val_vector)"
      ],
      "execution_count": null,
      "outputs": []
    },
    {
      "cell_type": "code",
      "metadata": {
        "colab": {
          "base_uri": "https://localhost:8080/"
        },
        "id": "hnU403kW0z3E",
        "outputId": "b84f44e5-3086-49b0-c98b-12427f23b0c6"
      },
      "source": [
        "np.unique(y_pred)"
      ],
      "execution_count": null,
      "outputs": [
        {
          "output_type": "execute_result",
          "data": {
            "text/plain": [
              "array([0, 1, 2])"
            ]
          },
          "metadata": {
            "tags": []
          },
          "execution_count": 34
        }
      ]
    },
    {
      "cell_type": "code",
      "metadata": {
        "colab": {
          "base_uri": "https://localhost:8080/"
        },
        "id": "RRvqL47z1BxM",
        "outputId": "30b3b8c2-2765-470c-b78e-990aabe368d2"
      },
      "source": [
        "from sklearn.metrics import classification_report\r\n",
        "print(classification_report(y_val, y_pred))"
      ],
      "execution_count": null,
      "outputs": [
        {
          "output_type": "stream",
          "text": [
            "              precision    recall  f1-score   support\n",
            "\n",
            "           0       0.77      0.74      0.76     12363\n",
            "           1       0.61      0.68      0.64      6137\n",
            "           2       0.80      0.79      0.80     14426\n",
            "\n",
            "    accuracy                           0.75     32926\n",
            "   macro avg       0.73      0.74      0.73     32926\n",
            "weighted avg       0.75      0.75      0.75     32926\n",
            "\n"
          ],
          "name": "stdout"
        }
      ]
    },
    {
      "cell_type": "markdown",
      "metadata": {
        "id": "66hGFR1z293e"
      },
      "source": [
        "## USING LSTM"
      ]
    },
    {
      "cell_type": "code",
      "metadata": {
        "id": "hx4EwcJBiYQm"
      },
      "source": [
        "# Import necessary libraries\r\n",
        "import tensorflow as tf\r\n",
        "from tensorflow.keras.preprocessing.text import Tokenizer\r\n",
        "from tensorflow.keras.preprocessing.sequence import pad_sequences\r\n",
        "from tensorflow.keras import layers, Sequential\r\n",
        "from tensorflow.keras.optimizers import Adam"
      ],
      "execution_count": null,
      "outputs": []
    },
    {
      "cell_type": "code",
      "metadata": {
        "id": "c0-cN7VH5CKl"
      },
      "source": [
        "x_df=train_df['OriginalTweet'].copy()\r\n",
        "y_df=train_df['Sentiment'].copy()"
      ],
      "execution_count": null,
      "outputs": []
    },
    {
      "cell_type": "code",
      "metadata": {
        "id": "2Ak4vOJfgR_y",
        "colab": {
          "base_uri": "https://localhost:8080/"
        },
        "outputId": "8e0c5445-7eef-4431-f6c5-6ca4eff5440a"
      },
      "source": [
        "y_df.value_counts()"
      ],
      "execution_count": null,
      "outputs": [
        {
          "output_type": "execute_result",
          "data": {
            "text/plain": [
              "2    18046\n",
              "0    15398\n",
              "1     7713\n",
              "Name: Sentiment, dtype: int64"
            ]
          },
          "metadata": {
            "tags": []
          },
          "execution_count": 38
        }
      ]
    },
    {
      "cell_type": "code",
      "metadata": {
        "colab": {
          "base_uri": "https://localhost:8080/"
        },
        "id": "COd4YxMWGR7s",
        "outputId": "b404a5ba-17ad-4baa-8387-f0914fd303f7"
      },
      "source": [
        "tokenizer = Tokenizer()\r\n",
        "tokenizer.fit_on_texts(x_df)\r\n",
        "vocab_size = len(tokenizer.word_index) + 1\r\n",
        "print('vocabulary size:{}'.format(vocab_size))\r\n",
        "\r\n",
        "max_len = max(x_df.apply(len))\r\n",
        "print('max length of input:{}'.format(max_len))\r\n",
        "\r\n",
        "sequence = tokenizer.texts_to_sequences(x_df)\r\n",
        "\r\n",
        "x = pad_sequences(sequence, max_len, padding='post')\r\n",
        "print('example x:{}'.format(x[4]))"
      ],
      "execution_count": null,
      "outputs": [
        {
          "output_type": "stream",
          "text": [
            "vocabulary size:80061\n",
            "max length of input:307\n",
            "example x:[   91   766     2    83    21    23    59     1    37   144    40   111\n",
            "    15   101  4364    53   111    42    22    87    13 23788   233     1\n",
            "     9    13     7   878   328    53    98   129     3    70    26  1790\n",
            "   452 23789 11402   402  4681     3     4 23790     0     0     0     0\n",
            "     0     0     0     0     0     0     0     0     0     0     0     0\n",
            "     0     0     0     0     0     0     0     0     0     0     0     0\n",
            "     0     0     0     0     0     0     0     0     0     0     0     0\n",
            "     0     0     0     0     0     0     0     0     0     0     0     0\n",
            "     0     0     0     0     0     0     0     0     0     0     0     0\n",
            "     0     0     0     0     0     0     0     0     0     0     0     0\n",
            "     0     0     0     0     0     0     0     0     0     0     0     0\n",
            "     0     0     0     0     0     0     0     0     0     0     0     0\n",
            "     0     0     0     0     0     0     0     0     0     0     0     0\n",
            "     0     0     0     0     0     0     0     0     0     0     0     0\n",
            "     0     0     0     0     0     0     0     0     0     0     0     0\n",
            "     0     0     0     0     0     0     0     0     0     0     0     0\n",
            "     0     0     0     0     0     0     0     0     0     0     0     0\n",
            "     0     0     0     0     0     0     0     0     0     0     0     0\n",
            "     0     0     0     0     0     0     0     0     0     0     0     0\n",
            "     0     0     0     0     0     0     0     0     0     0     0     0\n",
            "     0     0     0     0     0     0     0     0     0     0     0     0\n",
            "     0     0     0     0     0     0     0     0     0     0     0     0\n",
            "     0     0     0     0     0     0     0     0     0     0     0     0\n",
            "     0     0     0     0     0     0     0     0     0     0     0     0\n",
            "     0     0     0     0     0     0     0     0     0     0     0     0\n",
            "     0     0     0     0     0     0     0]\n"
          ],
          "name": "stdout"
        }
      ]
    },
    {
      "cell_type": "code",
      "metadata": {
        "colab": {
          "base_uri": "https://localhost:8080/"
        },
        "id": "VP0c2PuLGqRs",
        "outputId": "9cf2bf1f-3be3-436c-bbe0-61e4c7c11f74"
      },
      "source": [
        "BATCH_SIZE = 64\r\n",
        "EPOCHS = 4\r\n",
        "embedding_dim=16\r\n",
        "model = Sequential([\r\n",
        "    layers.Embedding(vocab_size, embedding_dim, input_length=max_len),\r\n",
        "    layers.Bidirectional(layers.GRU(256, return_sequences=True)),\r\n",
        "    layers.GlobalMaxPool1D(),\r\n",
        "    layers.Dense(64, activation='relu'),\r\n",
        "    layers.Dropout(0.4),\r\n",
        "    layers.Dense(3, activation='sigmoid')\r\n",
        "    \r\n",
        "])\r\n",
        "model.summary()"
      ],
      "execution_count": null,
      "outputs": [
        {
          "output_type": "stream",
          "text": [
            "Model: \"sequential\"\n",
            "_________________________________________________________________\n",
            "Layer (type)                 Output Shape              Param #   \n",
            "=================================================================\n",
            "embedding (Embedding)        (None, 307, 16)           1280976   \n",
            "_________________________________________________________________\n",
            "bidirectional (Bidirectional (None, 307, 512)          420864    \n",
            "_________________________________________________________________\n",
            "global_max_pooling1d (Global (None, 512)               0         \n",
            "_________________________________________________________________\n",
            "dense (Dense)                (None, 64)                32832     \n",
            "_________________________________________________________________\n",
            "dropout (Dropout)            (None, 64)                0         \n",
            "_________________________________________________________________\n",
            "dense_1 (Dense)              (None, 3)                 195       \n",
            "=================================================================\n",
            "Total params: 1,734,867\n",
            "Trainable params: 1,734,867\n",
            "Non-trainable params: 0\n",
            "_________________________________________________________________\n"
          ],
          "name": "stdout"
        }
      ]
    },
    {
      "cell_type": "code",
      "metadata": {
        "colab": {
          "base_uri": "https://localhost:8080/"
        },
        "id": "s8uHRQqQG0RO",
        "outputId": "db37d275-2bab-48e5-f75b-f1adb961ad1d"
      },
      "source": [
        "model.compile(loss='sparse_categorical_crossentropy', optimizer='adam', metrics=['accuracy'])\r\n",
        "history = model.fit(x, y_df, epochs=EPOCHS, batch_size=BATCH_SIZE, validation_split=0.1)"
      ],
      "execution_count": null,
      "outputs": [
        {
          "output_type": "stream",
          "text": [
            "Epoch 1/4\n",
            "579/579 [==============================] - 47s 66ms/step - loss: 0.8669 - accuracy: 0.5698 - val_loss: 0.4272 - val_accuracy: 0.8547\n",
            "Epoch 2/4\n",
            "579/579 [==============================] - 37s 64ms/step - loss: 0.3440 - accuracy: 0.8896 - val_loss: 0.4003 - val_accuracy: 0.8678\n",
            "Epoch 3/4\n",
            "579/579 [==============================] - 38s 65ms/step - loss: 0.1904 - accuracy: 0.9369 - val_loss: 0.4882 - val_accuracy: 0.8550\n",
            "Epoch 4/4\n",
            "579/579 [==============================] - 38s 65ms/step - loss: 0.1100 - accuracy: 0.9627 - val_loss: 0.5484 - val_accuracy: 0.8525\n"
          ],
          "name": "stdout"
        }
      ]
    },
    {
      "cell_type": "code",
      "metadata": {
        "id": "hlTvGsjoZfn1"
      },
      "source": [
        ""
      ],
      "execution_count": null,
      "outputs": []
    }
  ]
}